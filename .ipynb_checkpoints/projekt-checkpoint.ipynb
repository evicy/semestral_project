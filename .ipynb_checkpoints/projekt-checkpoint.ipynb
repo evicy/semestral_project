{
 "cells": [
  {
   "cell_type": "code",
   "execution_count": 1,
   "metadata": {},
   "outputs": [
    {
     "name": "stdout",
     "output_type": "stream",
     "text": [
      "[(0, 230387)]\n"
     ]
    }
   ],
   "source": [
    "import numpy as np\n",
    "import csv\n",
    "\n",
    "with open('C:\\\\Users\\\\Evi\\\\Documents\\\\2INF-LETO\\\\RP\\\\ref-miseq.bedgraph') as inf:\n",
    "#with open('C:\\\\Users\\\\Evi\\\\Documents\\\\2INF-LETO\\\\RP\\\\test.txt') as inf:\n",
    "    reader = csv.reader(inf, delimiter='\\t')\n",
    "    columns = list(zip(*reader))\n",
    "    ranges = [(columns[1][i], columns[2][i]) for i in range(len(columns[1]))]\n",
    "    score = columns[3]\n",
    "\n",
    "#returns a list of tuples that represent the <start, end) position for chromName \n",
    "def findDifferentChromIntervals(columns):    \n",
    "    chromIntervals = []\n",
    "    chromName = columns[0][0]\n",
    "    startIndex = 0\n",
    "    index = 0\n",
    "\n",
    "    for index in range(len(columns[0])):\n",
    "        if columns[0][index] != chromName:\n",
    "            chromIntervals.append((startIndex,index))\n",
    "            startIndex = index\n",
    "            chromName = columns[0][index]\n",
    "    chromIntervals.append((startIndex, index+1))\n",
    "           \n",
    "    return chromIntervals\n",
    "\n",
    "\n",
    "chromIntervals = findDifferentChromIntervals(columns)\n",
    "print(chromIntervals) "
   ]
  },
  {
   "cell_type": "code",
   "execution_count": 2,
   "metadata": {},
   "outputs": [
    {
     "ename": "TabError",
     "evalue": "inconsistent use of tabs and spaces in indentation (DrawDistributions.py, line 27)",
     "output_type": "error",
     "traceback": [
      "Traceback \u001b[1;36m(most recent call last)\u001b[0m:\n",
      "  File \u001b[0;32m\"C:\\Users\\Evi\\Apps\\lib\\site-packages\\IPython\\core\\interactiveshell.py\"\u001b[0m, line \u001b[0;32m3326\u001b[0m, in \u001b[0;35mrun_code\u001b[0m\n    exec(code_obj, self.user_global_ns, self.user_ns)\n",
      "\u001b[1;36m  File \u001b[1;32m\"<ipython-input-2-be715aceee8f>\"\u001b[1;36m, line \u001b[1;32m1\u001b[1;36m, in \u001b[1;35m<module>\u001b[1;36m\u001b[0m\n\u001b[1;33m    from DrawDistributions import draw\u001b[0m\n",
      "\u001b[1;36m  File \u001b[1;32m\"C:\\Users\\Evi\\Documents\\2INF-LETO\\semestral_project\\DrawDistributions.py\"\u001b[1;36m, line \u001b[1;32m27\u001b[0m\n\u001b[1;33m    distributions.append(dTuple.DistributionTuple(st.binom, [1000, 0.5], 'Binomial', 'gold')) #[1000, 0.01]\u001b[0m\n\u001b[1;37m                                                                                                           ^\u001b[0m\n\u001b[1;31mTabError\u001b[0m\u001b[1;31m:\u001b[0m inconsistent use of tabs and spaces in indentation\n"
     ]
    }
   ],
   "source": [
    "from DrawDistributions import draw\n",
    "from DrawErrors import drawErrors\n",
    "\n",
    "# Zadaj limitu pre os x>\n",
    "max_x=100\n",
    "\n",
    "# Zadaj pocet shiftnuti\n",
    "num_of_shifts = 4"
   ]
  },
  {
   "cell_type": "code",
   "execution_count": null,
   "metadata": {},
   "outputs": [],
   "source": [
    "print(range(len(chromIntervals)))\n",
    "print(chromIntervals[0])\n",
    "\n",
    "#pre kazdy chromName si spravim histogram a zobrazim ho pomocou draw + drawErrors\n",
    "for chrom in range(len(chromIntervals)):\n",
    "    histo = {}\n",
    "    for i in range(chromIntervals[chrom][0],chromIntervals[chrom][1]) :\n",
    "        #print('chrom = ', chrom, '   i = ', i)\n",
    "        if score[i] in histo:\n",
    "            histo[int(score[i])] += (int(ranges[i][1])-int(ranges[i][0]))\n",
    "        else:\n",
    "            histo[int(score[i])] = (int(ranges[i][1])-int(ranges[i][0]))\n",
    "    data = draw(histo, max_x, num_of_shifts)\n",
    "    drawErrors(data)\n",
    "print(len(histo))"
   ]
  },
  {
   "cell_type": "code",
   "execution_count": null,
   "metadata": {},
   "outputs": [],
   "source": []
  },
  {
   "cell_type": "code",
   "execution_count": null,
   "metadata": {},
   "outputs": [],
   "source": [
    "#Ak nekontrolujem, ku ktorej chromName to patri\n",
    "histo = {}\n",
    "for i in range(len(ranges)):\n",
    "    if score[i] in histo:\n",
    "        histo[int(score[i])] += (int(ranges[i][1])-int(ranges[i][0]))\n",
    "    else:\n",
    "        histo[int(score[i])] = (int(ranges[i][1])-int(ranges[i][0]))\n",
    "print(len(histo))\n",
    "\n",
    "from DrawDistributions import draw\n",
    "\n",
    "# Zadaj limitu pre os x>\n",
    "max_x=100\n",
    "\n",
    "# Zadaj pocet shiftnuti\n",
    "num_of_shifts = 20\n",
    "\n",
    "data = draw(histo, max_x, num_of_shifts)"
   ]
  },
  {
   "cell_type": "code",
   "execution_count": null,
   "metadata": {},
   "outputs": [],
   "source": []
  }
 ],
 "metadata": {
  "kernelspec": {
   "display_name": "Python 3",
   "language": "python",
   "name": "python3"
  },
  "language_info": {
   "codemirror_mode": {
    "name": "ipython",
    "version": 3
   },
   "file_extension": ".py",
   "mimetype": "text/x-python",
   "name": "python",
   "nbconvert_exporter": "python",
   "pygments_lexer": "ipython3",
   "version": "3.7.4"
  }
 },
 "nbformat": 4,
 "nbformat_minor": 2
}
